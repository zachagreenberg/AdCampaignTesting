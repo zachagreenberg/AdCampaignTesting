{
 "cells": [
  {
   "cell_type": "markdown",
   "metadata": {},
   "source": [
    "# Generating Fake Data"
   ]
  },
  {
   "cell_type": "markdown",
   "metadata": {},
   "source": [
    "Since I could not find the data I was initially looking for, I decided this would be a great time to practice generating artificial data."
   ]
  },
  {
   "cell_type": "code",
   "execution_count": 1,
   "metadata": {},
   "outputs": [],
   "source": [
    "#importing libraries\n",
    "from faker import Faker\n",
    "from faker.providers import BaseProvider\n",
    "import datetime\n",
    "import numpy as np\n",
    "import pandas as pd\n",
    "\n",
    "#setting seed for reproducibility\n",
    "Faker.seed(12)\n",
    "np.random.seed(12)\n",
    "\n",
    "create = Faker()"
   ]
  },
  {
   "cell_type": "code",
   "execution_count": 2,
   "metadata": {},
   "outputs": [],
   "source": [
    "#this will be the number of rows in the dataset\n",
    "dataset_length = 500"
   ]
  },
  {
   "cell_type": "code",
   "execution_count": 3,
   "metadata": {},
   "outputs": [],
   "source": [
    "def campaign_date(year, month, start_date, end_date, length = dataset_length):\n",
    "    \"\"\"\n",
    "    When entering the specified parameters, this function will generate random dates \n",
    "    to a specified number of times, or length. The function is intended to be utilized \n",
    "    to get both the starting and ending dates of the two campaigns.\n",
    "    \"\"\"\n",
    "    date_start = datetime.date(year,month,start_date) #Min start date of campaign\n",
    "    \n",
    "    date_end = datetime.date(year,month,end_date) #Max start date of campaign\n",
    "    \n",
    "    dates = []\n",
    "    for _ in range(1, length+1):\n",
    "    #Timestamp\n",
    "        date = create.date_time_between_dates(\n",
    "                datetime_start=date_start,\n",
    "                datetime_end=date_end\n",
    "                )\n",
    "        \n",
    "        dates.append(date)\n",
    "        \n",
    "    return dates\n",
    "    "
   ]
  },
  {
   "cell_type": "code",
   "execution_count": 4,
   "metadata": {},
   "outputs": [],
   "source": [
    "campaign_start = campaign_date(2019, 10, 1, 30)\n",
    "campaign_end = campaign_date(2019, 12, 10, 15)"
   ]
  },
  {
   "cell_type": "markdown",
   "metadata": {},
   "source": [
    "I decided to start the campaign in October for approximately a month long engagement. Accoring to the following [link](https://joinative.com/holiday-ads-tips#), Statista had surveyed individuals on when they would be likely to begin holiday shopping. I also modeled the end of the campaign date range based on the results of this survey. "
   ]
  },
  {
   "cell_type": "code",
   "execution_count": 5,
   "metadata": {},
   "outputs": [],
   "source": [
    "#By utilizing the MyProvider class, we are able to customize all sorts of methods.\n",
    "class MyProvider(BaseProvider):\n",
    "    def version(self):\n",
    "        \"\"\"Version of the ad shown\"\"\"\n",
    "        version= ['A', 'B']\n",
    "        return np.random.choice(version)\n",
    "    \n",
    "    def state(self):\n",
    "        \"\"\"State in which the person lives\"\"\"\n",
    "        state = [\"Alaska\", \"Alabama\", \"Arkansas\", \"Arizona\", \"California\", \"Colorado\", \n",
    "                 \"Connecticut\", \"Delaware\", \"Florida\", \"Georgia\", \"Hawaii\", \"Iowa\", \"Idaho\", \n",
    "                 \"Illinois\", \"Indiana\", \"Kansas\", \"Kentucky\", \"Louisiana\", \"Massachusetts\", \n",
    "                 \"Maryland\", \"Maine\", \"Michigan\", \"Minnesota\", \"Missouri\", \"Mississippi\", \n",
    "                 \"Montana\", \"North Carolina\", \"North Dakota\", \"Nebraska\", \"New Hampshire\", \n",
    "                 \"New Jersey\", \"New Mexico\", \"Nevada\", \"New York\", \"Ohio\", \"Oklahoma\", \"Oregon\", \n",
    "                 \"Pennsylvania\", \"Rhode Island\", \"South Carolina\", \"South Dakota\", \"Tennessee\", \n",
    "                 \"Texas\", \"Utah\", \"Virginia\", \"Vermont\", \"Washington\", \"Wisconsin\", \"West Virginia\", \n",
    "                 \"Wyoming\"]\n",
    "        return np.random.choice(state)\n",
    "    \n",
    "    def sex(self):\n",
    "        \"\"\"Sex of the person\"\"\"\n",
    "        sex = ['M', 'F']\n",
    "        return np.random.choice(sex)\n",
    "    \n",
    "create.add_provider(MyProvider)"
   ]
  },
  {
   "cell_type": "code",
   "execution_count": 6,
   "metadata": {},
   "outputs": [],
   "source": [
    "#the lists below are going to be columns in the dataframe\n",
    "version_of_ad = []\n",
    "age = []\n",
    "state = []\n",
    "sex = []\n",
    "clicked_on_ad = []\n",
    "amount_spent = []\n",
    "\n",
    "\n",
    "for _ in range(1, dataset_length + 1):\n",
    "    version_of_ad.append(create.version())\n",
    "    age.append(create.pyint(min_value = 18, max_value = 85))\n",
    "    state.append(create.state())\n",
    "    sex.append(create.sex())\n",
    "    clicked_on_ad.append(create.boolean())\n",
    "    \n",
    "for i in clicked_on_ad:\n",
    "    if i == True:\n",
    "        amount_spent.append(create.pyfloat(min_value = 1, max_value = 200))\n",
    "    else:\n",
    "        amount_spent.append(0)\n",
    "\n",
    "    \n",
    "\n"
   ]
  },
  {
   "cell_type": "code",
   "execution_count": 7,
   "metadata": {},
   "outputs": [],
   "source": [
    "#creating the dataframe\n",
    "ad_data = pd.DataFrame({'campaign_start': campaign_start, 'campaign_end': campaign_end, \n",
    "                       'ad_version': version_of_ad, 'age': age, 'sex': sex, 'state': state,\n",
    "                        'clicked_on_ad': clicked_on_ad, 'amount_spent': [round(amount, 2) for amount in amount_spent]})"
   ]
  },
  {
   "cell_type": "code",
   "execution_count": 8,
   "metadata": {},
   "outputs": [
    {
     "data": {
      "text/html": [
       "<div>\n",
       "<style scoped>\n",
       "    .dataframe tbody tr th:only-of-type {\n",
       "        vertical-align: middle;\n",
       "    }\n",
       "\n",
       "    .dataframe tbody tr th {\n",
       "        vertical-align: top;\n",
       "    }\n",
       "\n",
       "    .dataframe thead th {\n",
       "        text-align: right;\n",
       "    }\n",
       "</style>\n",
       "<table border=\"1\" class=\"dataframe\">\n",
       "  <thead>\n",
       "    <tr style=\"text-align: right;\">\n",
       "      <th></th>\n",
       "      <th>campaign_start</th>\n",
       "      <th>campaign_end</th>\n",
       "      <th>ad_version</th>\n",
       "      <th>age</th>\n",
       "      <th>sex</th>\n",
       "      <th>state</th>\n",
       "      <th>clicked_on_ad</th>\n",
       "      <th>amount_spent</th>\n",
       "    </tr>\n",
       "  </thead>\n",
       "  <tbody>\n",
       "    <tr>\n",
       "      <th>0</th>\n",
       "      <td>2019-10-24 00:54:53</td>\n",
       "      <td>2019-12-10 19:54:30</td>\n",
       "      <td>B</td>\n",
       "      <td>29</td>\n",
       "      <td>M</td>\n",
       "      <td>North Dakota</td>\n",
       "      <td>True</td>\n",
       "      <td>8.54</td>\n",
       "    </tr>\n",
       "    <tr>\n",
       "      <th>1</th>\n",
       "      <td>2019-10-14 01:24:06</td>\n",
       "      <td>2019-12-10 03:35:27</td>\n",
       "      <td>B</td>\n",
       "      <td>44</td>\n",
       "      <td>M</td>\n",
       "      <td>Wyoming</td>\n",
       "      <td>True</td>\n",
       "      <td>86.92</td>\n",
       "    </tr>\n",
       "    <tr>\n",
       "      <th>2</th>\n",
       "      <td>2019-10-26 16:28:55</td>\n",
       "      <td>2019-12-10 10:49:22</td>\n",
       "      <td>B</td>\n",
       "      <td>73</td>\n",
       "      <td>M</td>\n",
       "      <td>Arizona</td>\n",
       "      <td>False</td>\n",
       "      <td>0.00</td>\n",
       "    </tr>\n",
       "    <tr>\n",
       "      <th>3</th>\n",
       "      <td>2019-10-17 23:31:46</td>\n",
       "      <td>2019-12-14 01:32:07</td>\n",
       "      <td>A</td>\n",
       "      <td>33</td>\n",
       "      <td>F</td>\n",
       "      <td>Minnesota</td>\n",
       "      <td>True</td>\n",
       "      <td>4.00</td>\n",
       "    </tr>\n",
       "    <tr>\n",
       "      <th>4</th>\n",
       "      <td>2019-10-07 22:08:29</td>\n",
       "      <td>2019-12-14 19:02:02</td>\n",
       "      <td>A</td>\n",
       "      <td>28</td>\n",
       "      <td>F</td>\n",
       "      <td>Colorado</td>\n",
       "      <td>False</td>\n",
       "      <td>0.00</td>\n",
       "    </tr>\n",
       "    <tr>\n",
       "      <th>...</th>\n",
       "      <td>...</td>\n",
       "      <td>...</td>\n",
       "      <td>...</td>\n",
       "      <td>...</td>\n",
       "      <td>...</td>\n",
       "      <td>...</td>\n",
       "      <td>...</td>\n",
       "      <td>...</td>\n",
       "    </tr>\n",
       "    <tr>\n",
       "      <th>495</th>\n",
       "      <td>2019-10-25 08:21:48</td>\n",
       "      <td>2019-12-10 20:54:20</td>\n",
       "      <td>B</td>\n",
       "      <td>80</td>\n",
       "      <td>M</td>\n",
       "      <td>Rhode Island</td>\n",
       "      <td>True</td>\n",
       "      <td>61.00</td>\n",
       "    </tr>\n",
       "    <tr>\n",
       "      <th>496</th>\n",
       "      <td>2019-10-17 11:41:07</td>\n",
       "      <td>2019-12-10 03:08:58</td>\n",
       "      <td>B</td>\n",
       "      <td>48</td>\n",
       "      <td>F</td>\n",
       "      <td>Minnesota</td>\n",
       "      <td>False</td>\n",
       "      <td>0.00</td>\n",
       "    </tr>\n",
       "    <tr>\n",
       "      <th>497</th>\n",
       "      <td>2019-10-18 05:55:39</td>\n",
       "      <td>2019-12-14 19:18:19</td>\n",
       "      <td>A</td>\n",
       "      <td>71</td>\n",
       "      <td>F</td>\n",
       "      <td>Delaware</td>\n",
       "      <td>True</td>\n",
       "      <td>115.71</td>\n",
       "    </tr>\n",
       "    <tr>\n",
       "      <th>498</th>\n",
       "      <td>2019-10-20 08:51:27</td>\n",
       "      <td>2019-12-12 05:44:18</td>\n",
       "      <td>B</td>\n",
       "      <td>83</td>\n",
       "      <td>F</td>\n",
       "      <td>Louisiana</td>\n",
       "      <td>True</td>\n",
       "      <td>40.24</td>\n",
       "    </tr>\n",
       "    <tr>\n",
       "      <th>499</th>\n",
       "      <td>2019-10-15 21:10:52</td>\n",
       "      <td>2019-12-13 05:58:02</td>\n",
       "      <td>B</td>\n",
       "      <td>81</td>\n",
       "      <td>F</td>\n",
       "      <td>New Mexico</td>\n",
       "      <td>True</td>\n",
       "      <td>90.84</td>\n",
       "    </tr>\n",
       "  </tbody>\n",
       "</table>\n",
       "<p>500 rows × 8 columns</p>\n",
       "</div>"
      ],
      "text/plain": [
       "         campaign_start        campaign_end ad_version  age sex         state  \\\n",
       "0   2019-10-24 00:54:53 2019-12-10 19:54:30          B   29   M  North Dakota   \n",
       "1   2019-10-14 01:24:06 2019-12-10 03:35:27          B   44   M       Wyoming   \n",
       "2   2019-10-26 16:28:55 2019-12-10 10:49:22          B   73   M       Arizona   \n",
       "3   2019-10-17 23:31:46 2019-12-14 01:32:07          A   33   F     Minnesota   \n",
       "4   2019-10-07 22:08:29 2019-12-14 19:02:02          A   28   F      Colorado   \n",
       "..                  ...                 ...        ...  ...  ..           ...   \n",
       "495 2019-10-25 08:21:48 2019-12-10 20:54:20          B   80   M  Rhode Island   \n",
       "496 2019-10-17 11:41:07 2019-12-10 03:08:58          B   48   F     Minnesota   \n",
       "497 2019-10-18 05:55:39 2019-12-14 19:18:19          A   71   F      Delaware   \n",
       "498 2019-10-20 08:51:27 2019-12-12 05:44:18          B   83   F     Louisiana   \n",
       "499 2019-10-15 21:10:52 2019-12-13 05:58:02          B   81   F    New Mexico   \n",
       "\n",
       "     clicked_on_ad  amount_spent  \n",
       "0             True          8.54  \n",
       "1             True         86.92  \n",
       "2            False          0.00  \n",
       "3             True          4.00  \n",
       "4            False          0.00  \n",
       "..             ...           ...  \n",
       "495           True         61.00  \n",
       "496          False          0.00  \n",
       "497           True        115.71  \n",
       "498           True         40.24  \n",
       "499           True         90.84  \n",
       "\n",
       "[500 rows x 8 columns]"
      ]
     },
     "execution_count": 8,
     "metadata": {},
     "output_type": "execute_result"
    }
   ],
   "source": [
    "ad_data"
   ]
  },
  {
   "cell_type": "code",
   "execution_count": 9,
   "metadata": {
    "scrolled": true
   },
   "outputs": [
    {
     "data": {
      "text/plain": [
       "B    258\n",
       "A    242\n",
       "Name: ad_version, dtype: int64"
      ]
     },
     "execution_count": 9,
     "metadata": {},
     "output_type": "execute_result"
    }
   ],
   "source": [
    "#checking the distribution of the 2 ad classes\n",
    "ad_data['ad_version'].value_counts()"
   ]
  },
  {
   "cell_type": "markdown",
   "metadata": {},
   "source": [
    "There is an even distribution of classes (or ads in this case)."
   ]
  },
  {
   "cell_type": "code",
   "execution_count": 10,
   "metadata": {},
   "outputs": [],
   "source": [
    "#saving this dataframe to a csv\n",
    "ad_data.to_csv('ad_data.csv', index = False)"
   ]
  }
 ],
 "metadata": {
  "kernelspec": {
   "display_name": "Python 3",
   "language": "python",
   "name": "python3"
  },
  "language_info": {
   "codemirror_mode": {
    "name": "ipython",
    "version": 3
   },
   "file_extension": ".py",
   "mimetype": "text/x-python",
   "name": "python",
   "nbconvert_exporter": "python",
   "pygments_lexer": "ipython3",
   "version": "3.8.5"
  },
  "toc": {
   "base_numbering": 1,
   "nav_menu": {},
   "number_sections": true,
   "sideBar": true,
   "skip_h1_title": false,
   "title_cell": "Table of Contents",
   "title_sidebar": "Contents",
   "toc_cell": false,
   "toc_position": {},
   "toc_section_display": true,
   "toc_window_display": false
  },
  "varInspector": {
   "cols": {
    "lenName": 16,
    "lenType": 16,
    "lenVar": 40
   },
   "kernels_config": {
    "python": {
     "delete_cmd_postfix": "",
     "delete_cmd_prefix": "del ",
     "library": "var_list.py",
     "varRefreshCmd": "print(var_dic_list())"
    },
    "r": {
     "delete_cmd_postfix": ") ",
     "delete_cmd_prefix": "rm(",
     "library": "var_list.r",
     "varRefreshCmd": "cat(var_dic_list()) "
    }
   },
   "types_to_exclude": [
    "module",
    "function",
    "builtin_function_or_method",
    "instance",
    "_Feature"
   ],
   "window_display": false
  }
 },
 "nbformat": 4,
 "nbformat_minor": 4
}
