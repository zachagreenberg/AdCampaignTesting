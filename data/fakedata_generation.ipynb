{
 "cells": [
  {
   "cell_type": "markdown",
   "metadata": {},
   "source": [
    "# Generating Fake Data"
   ]
  },
  {
   "cell_type": "code",
   "execution_count": 1,
   "metadata": {},
   "outputs": [],
   "source": [
    "from faker import Faker\n",
    "from faker.providers import BaseProvider\n",
    "import datetime\n",
    "\n",
    "create = Faker()"
   ]
  },
  {
   "cell_type": "code",
   "execution_count": 2,
   "metadata": {},
   "outputs": [],
   "source": [
    "dataset_length = 300"
   ]
  },
  {
   "cell_type": "code",
   "execution_count": 3,
   "metadata": {},
   "outputs": [],
   "source": [
    "def campaign_date(year, month, start_date, end_date, length = dataset_length):\n",
    "    \"\"\"\n",
    "    When entering the specified parameters, this function will generate random dates \n",
    "    to a specified number of times, or length. The function is intended to be utilized \n",
    "    to get both the starting and ending dates of the campaign.\n",
    "    \"\"\"\n",
    "    date_start = datetime.date(year,month,start_date) #Min start date of campaign\n",
    "    \n",
    "    date_end = datetime.date(year,month + 1,end_date) #Max start date of campaign\n",
    "    \n",
    "    dates = []\n",
    "    for i in range(1, length+1):\n",
    "    #Timestamp\n",
    "        date = create.date_time_between_dates(\n",
    "                datetime_start=date_start,\n",
    "                datetime_end=date_end\n",
    "                )\n",
    "        \n",
    "        dates.append(date)\n",
    "        \n",
    "    return dates\n",
    "    "
   ]
  },
  {
   "cell_type": "code",
   "execution_count": 4,
   "metadata": {},
   "outputs": [],
   "source": [
    "class MyProvider(BaseProvider):\n",
    "    def version(self):\n",
    "        version= ['A', 'B']\n",
    "        return np.random.choice(version)\n",
    "    \n",
    "    def state(self):\n",
    "        state = [\"Alaska\", \"Alabama\", \"Arkansas\", \"Arizona\", \"California\", \"Colorado\", \n",
    "                 \"Connecticut\", \"Delaware\", \"Florida\", \"Georgia\", \"Hawaii\", \"Iowa\", \"Idaho\", \n",
    "                 \"Illinois\", \"Indiana\", \"Kansas\", \"Kentucky\", \"Louisiana\", \"Massachusetts\", \n",
    "                 \"Maryland\", \"Maine\", \"Michigan\", \"Minnesota\", \"Missouri\", \"Mississippi\", \n",
    "                 \"Montana\", \"North Carolina\", \"North Dakota\", \"Nebraska\", \"New Hampshire\", \n",
    "                 \"New Jersey\", \"New Mexico\", \"Nevada\", \"New York\", \"Ohio\", \"Oklahoma\", \"Oregon\", \n",
    "                 \"Pennsylvania\", \"Rhode Island\", \"South Carolina\", \"South Dakota\", \"Tennessee\", \n",
    "                 \"Texas\", \"Utah\", \"Virginia\", \"Vermont\", \"Washington\", \"Wisconsin\", \"West Virginia\", \n",
    "                 \"Wyoming\"]\n",
    "        return np.random.choice(state)\n",
    "    \n",
    "create.add_provider(MyProvider)"
   ]
  },
  {
   "cell_type": "code",
   "execution_count": 5,
   "metadata": {},
   "outputs": [],
   "source": [
    "version_of_ad = []\n",
    "state = []\n",
    "clicked_on_ad = []\n",
    "\n",
    "\n",
    "for i in range(1, dataset_length + 1):\n",
    "    version_of_ad.append(create.version())\n",
    "    state.append(create.state())\n",
    "    clicked_on_ad.append(create.boolean())\n",
    "    if clicked_on_ad == 1:\n",
    "        amount_spent.append(create.pyfloat(min_value = 1, max_value = 200))\n",
    "    else:\n",
    "        amount_spent.append(0)\n",
    "    \n",
    "\n"
   ]
  }
 ],
 "metadata": {
  "kernelspec": {
   "display_name": "Python 3",
   "language": "python",
   "name": "python3"
  },
  "language_info": {
   "codemirror_mode": {
    "name": "ipython",
    "version": 3
   },
   "file_extension": ".py",
   "mimetype": "text/x-python",
   "name": "python",
   "nbconvert_exporter": "python",
   "pygments_lexer": "ipython3",
   "version": "3.8.5"
  },
  "toc": {
   "base_numbering": 1,
   "nav_menu": {},
   "number_sections": true,
   "sideBar": true,
   "skip_h1_title": false,
   "title_cell": "Table of Contents",
   "title_sidebar": "Contents",
   "toc_cell": false,
   "toc_position": {},
   "toc_section_display": true,
   "toc_window_display": false
  },
  "varInspector": {
   "cols": {
    "lenName": 16,
    "lenType": 16,
    "lenVar": 40
   },
   "kernels_config": {
    "python": {
     "delete_cmd_postfix": "",
     "delete_cmd_prefix": "del ",
     "library": "var_list.py",
     "varRefreshCmd": "print(var_dic_list())"
    },
    "r": {
     "delete_cmd_postfix": ") ",
     "delete_cmd_prefix": "rm(",
     "library": "var_list.r",
     "varRefreshCmd": "cat(var_dic_list()) "
    }
   },
   "types_to_exclude": [
    "module",
    "function",
    "builtin_function_or_method",
    "instance",
    "_Feature"
   ],
   "window_display": false
  }
 },
 "nbformat": 4,
 "nbformat_minor": 4
}
