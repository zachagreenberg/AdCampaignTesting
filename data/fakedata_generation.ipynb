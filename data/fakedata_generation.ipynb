{
 "cells": [
  {
   "cell_type": "markdown",
   "metadata": {},
   "source": [
    "# Generating Fake Data"
   ]
  },
  {
   "cell_type": "code",
   "execution_count": 1,
   "metadata": {},
   "outputs": [],
   "source": [
    "from faker import Faker\n",
    "from faker.providers import BaseProvider\n",
    "import datetime\n",
    "import numpy as np\n",
    "\n",
    "#setting seed for reproducibility\n",
    "Faker.seed(12)\n",
    "np.random.seed(12)\n",
    "\n",
    "create = Faker()"
   ]
  },
  {
   "cell_type": "code",
   "execution_count": 2,
   "metadata": {},
   "outputs": [],
   "source": [
    "#this will be the number of rows in the dataset\n",
    "dataset_length = 300"
   ]
  },
  {
   "cell_type": "code",
   "execution_count": 3,
   "metadata": {},
   "outputs": [],
   "source": [
    "def campaign_date(year, month, start_date, end_date, length = dataset_length):\n",
    "    \"\"\"\n",
    "    When entering the specified parameters, this function will generate random dates \n",
    "    to a specified number of times, or length. The function is intended to be utilized \n",
    "    to get both the starting and ending dates of the two campaigns.\n",
    "    \"\"\"\n",
    "    date_start = datetime.date(year,month,start_date) #Min start date of campaign\n",
    "    \n",
    "    date_end = datetime.date(year,month,end_date) #Max start date of campaign\n",
    "    \n",
    "    dates = []\n",
    "    for _ in range(1, length+1):\n",
    "    #Timestamp\n",
    "        date = create.date_time_between_dates(\n",
    "                datetime_start=date_start,\n",
    "                datetime_end=date_end\n",
    "                )\n",
    "        \n",
    "        dates.append(date)\n",
    "        \n",
    "    return dates\n",
    "    "
   ]
  },
  {
   "cell_type": "code",
   "execution_count": 4,
   "metadata": {},
   "outputs": [],
   "source": [
    "campaign_start = campaign_date(2017, 8, 1, 30)\n",
    "campaign_end = campaign_date(2017, 11, 10, 15)"
   ]
  },
  {
   "cell_type": "code",
   "execution_count": 5,
   "metadata": {},
   "outputs": [],
   "source": [
    "#By utilizing the MyProvider class, we are able to customize all sorts of methods.\n",
    "class MyProvider(BaseProvider):\n",
    "    def version(self):\n",
    "        \"\"\"Version of the ad shown\"\"\"\n",
    "        version= ['A', 'B']\n",
    "        return np.random.choice(version)\n",
    "    \n",
    "    def state(self):\n",
    "        \"\"\"State in which the person lives\"\"\"\n",
    "        state = [\"Alaska\", \"Alabama\", \"Arkansas\", \"Arizona\", \"California\", \"Colorado\", \n",
    "                 \"Connecticut\", \"Delaware\", \"Florida\", \"Georgia\", \"Hawaii\", \"Iowa\", \"Idaho\", \n",
    "                 \"Illinois\", \"Indiana\", \"Kansas\", \"Kentucky\", \"Louisiana\", \"Massachusetts\", \n",
    "                 \"Maryland\", \"Maine\", \"Michigan\", \"Minnesota\", \"Missouri\", \"Mississippi\", \n",
    "                 \"Montana\", \"North Carolina\", \"North Dakota\", \"Nebraska\", \"New Hampshire\", \n",
    "                 \"New Jersey\", \"New Mexico\", \"Nevada\", \"New York\", \"Ohio\", \"Oklahoma\", \"Oregon\", \n",
    "                 \"Pennsylvania\", \"Rhode Island\", \"South Carolina\", \"South Dakota\", \"Tennessee\", \n",
    "                 \"Texas\", \"Utah\", \"Virginia\", \"Vermont\", \"Washington\", \"Wisconsin\", \"West Virginia\", \n",
    "                 \"Wyoming\"]\n",
    "        return np.random.choice(state)\n",
    "    \n",
    "    def sex(self):\n",
    "        \"\"\"Sex of the person\"\"\"\n",
    "        sex = ['M', 'F']\n",
    "        return np.random.choice(sex)\n",
    "    \n",
    "create.add_provider(MyProvider)"
   ]
  },
  {
   "cell_type": "code",
   "execution_count": 6,
   "metadata": {},
   "outputs": [],
   "source": [
    "#the lists below are going to be columns in the dataframe\n",
    "version_of_ad = []\n",
    "age = []\n",
    "state = []\n",
    "sex = []\n",
    "clicked_on_ad = []\n",
    "amount_spent = []\n",
    "\n",
    "\n",
    "for _ in range(1, dataset_length + 1):\n",
    "    version_of_ad.append(create.version())\n",
    "    age.append(create.pyint(min_value = 18, max_value = 85))\n",
    "    state.append(create.state())\n",
    "    sex.append(create.sex())\n",
    "    clicked_on_ad.append(create.boolean())\n",
    "    \n",
    "for i in clicked_on_ad:\n",
    "    if i == True:\n",
    "        amount_spent.append(create.pyfloat(min_value = 1, max_value = 200))\n",
    "    else:\n",
    "        amount_spent.append(0)\n",
    "\n",
    "    \n",
    "\n"
   ]
  },
  {
   "cell_type": "code",
   "execution_count": 7,
   "metadata": {},
   "outputs": [],
   "source": [
    "import pandas as pd\n",
    "\n",
    "#creating the dataframe\n",
    "ad_data = pd.DataFrame({'campaign_start': campaign_start, 'campaign_end': campaign_end, \n",
    "                       'ad_version': version_of_ad, 'age': age, 'sex': sex, 'state': state,\n",
    "                        'clicked_on_ad': clicked_on_ad, 'amount_spent': [round(amount, 2) for amount in amount_spent]})"
   ]
  },
  {
   "cell_type": "code",
   "execution_count": 8,
   "metadata": {},
   "outputs": [
    {
     "data": {
      "text/html": [
       "<div>\n",
       "<style scoped>\n",
       "    .dataframe tbody tr th:only-of-type {\n",
       "        vertical-align: middle;\n",
       "    }\n",
       "\n",
       "    .dataframe tbody tr th {\n",
       "        vertical-align: top;\n",
       "    }\n",
       "\n",
       "    .dataframe thead th {\n",
       "        text-align: right;\n",
       "    }\n",
       "</style>\n",
       "<table border=\"1\" class=\"dataframe\">\n",
       "  <thead>\n",
       "    <tr style=\"text-align: right;\">\n",
       "      <th></th>\n",
       "      <th>campaign_start</th>\n",
       "      <th>campaign_end</th>\n",
       "      <th>ad_version</th>\n",
       "      <th>age</th>\n",
       "      <th>sex</th>\n",
       "      <th>state</th>\n",
       "      <th>clicked_on_ad</th>\n",
       "      <th>amount_spent</th>\n",
       "    </tr>\n",
       "  </thead>\n",
       "  <tbody>\n",
       "    <tr>\n",
       "      <th>0</th>\n",
       "      <td>2017-08-24 00:54:53</td>\n",
       "      <td>2017-11-14 18:52:28</td>\n",
       "      <td>B</td>\n",
       "      <td>70</td>\n",
       "      <td>M</td>\n",
       "      <td>North Dakota</td>\n",
       "      <td>True</td>\n",
       "      <td>58.95</td>\n",
       "    </tr>\n",
       "    <tr>\n",
       "      <th>1</th>\n",
       "      <td>2017-08-14 01:24:06</td>\n",
       "      <td>2017-11-11 05:52:06</td>\n",
       "      <td>B</td>\n",
       "      <td>36</td>\n",
       "      <td>M</td>\n",
       "      <td>Wyoming</td>\n",
       "      <td>True</td>\n",
       "      <td>196.00</td>\n",
       "    </tr>\n",
       "    <tr>\n",
       "      <th>2</th>\n",
       "      <td>2017-08-26 16:28:55</td>\n",
       "      <td>2017-11-11 13:05:21</td>\n",
       "      <td>B</td>\n",
       "      <td>75</td>\n",
       "      <td>M</td>\n",
       "      <td>Arizona</td>\n",
       "      <td>True</td>\n",
       "      <td>76.48</td>\n",
       "    </tr>\n",
       "    <tr>\n",
       "      <th>3</th>\n",
       "      <td>2017-08-17 23:31:46</td>\n",
       "      <td>2017-11-10 15:58:09</td>\n",
       "      <td>A</td>\n",
       "      <td>85</td>\n",
       "      <td>F</td>\n",
       "      <td>Minnesota</td>\n",
       "      <td>True</td>\n",
       "      <td>102.33</td>\n",
       "    </tr>\n",
       "    <tr>\n",
       "      <th>4</th>\n",
       "      <td>2017-08-07 22:08:29</td>\n",
       "      <td>2017-11-11 15:01:02</td>\n",
       "      <td>A</td>\n",
       "      <td>49</td>\n",
       "      <td>F</td>\n",
       "      <td>Colorado</td>\n",
       "      <td>True</td>\n",
       "      <td>17.30</td>\n",
       "    </tr>\n",
       "    <tr>\n",
       "      <th>...</th>\n",
       "      <td>...</td>\n",
       "      <td>...</td>\n",
       "      <td>...</td>\n",
       "      <td>...</td>\n",
       "      <td>...</td>\n",
       "      <td>...</td>\n",
       "      <td>...</td>\n",
       "      <td>...</td>\n",
       "    </tr>\n",
       "    <tr>\n",
       "      <th>295</th>\n",
       "      <td>2017-08-24 21:44:56</td>\n",
       "      <td>2017-11-13 12:03:19</td>\n",
       "      <td>A</td>\n",
       "      <td>80</td>\n",
       "      <td>F</td>\n",
       "      <td>New Hampshire</td>\n",
       "      <td>True</td>\n",
       "      <td>194.88</td>\n",
       "    </tr>\n",
       "    <tr>\n",
       "      <th>296</th>\n",
       "      <td>2017-08-19 16:08:59</td>\n",
       "      <td>2017-11-11 21:46:03</td>\n",
       "      <td>B</td>\n",
       "      <td>35</td>\n",
       "      <td>F</td>\n",
       "      <td>Kansas</td>\n",
       "      <td>False</td>\n",
       "      <td>0.00</td>\n",
       "    </tr>\n",
       "    <tr>\n",
       "      <th>297</th>\n",
       "      <td>2017-08-20 09:30:40</td>\n",
       "      <td>2017-11-11 02:06:31</td>\n",
       "      <td>A</td>\n",
       "      <td>65</td>\n",
       "      <td>F</td>\n",
       "      <td>Montana</td>\n",
       "      <td>False</td>\n",
       "      <td>0.00</td>\n",
       "    </tr>\n",
       "    <tr>\n",
       "      <th>298</th>\n",
       "      <td>2017-08-09 20:52:01</td>\n",
       "      <td>2017-11-11 13:44:23</td>\n",
       "      <td>A</td>\n",
       "      <td>22</td>\n",
       "      <td>M</td>\n",
       "      <td>Alaska</td>\n",
       "      <td>True</td>\n",
       "      <td>154.20</td>\n",
       "    </tr>\n",
       "    <tr>\n",
       "      <th>299</th>\n",
       "      <td>2017-08-09 05:51:44</td>\n",
       "      <td>2017-11-12 13:33:05</td>\n",
       "      <td>A</td>\n",
       "      <td>76</td>\n",
       "      <td>M</td>\n",
       "      <td>Florida</td>\n",
       "      <td>True</td>\n",
       "      <td>99.00</td>\n",
       "    </tr>\n",
       "  </tbody>\n",
       "</table>\n",
       "<p>300 rows × 8 columns</p>\n",
       "</div>"
      ],
      "text/plain": [
       "         campaign_start        campaign_end ad_version  age sex  \\\n",
       "0   2017-08-24 00:54:53 2017-11-14 18:52:28          B   70   M   \n",
       "1   2017-08-14 01:24:06 2017-11-11 05:52:06          B   36   M   \n",
       "2   2017-08-26 16:28:55 2017-11-11 13:05:21          B   75   M   \n",
       "3   2017-08-17 23:31:46 2017-11-10 15:58:09          A   85   F   \n",
       "4   2017-08-07 22:08:29 2017-11-11 15:01:02          A   49   F   \n",
       "..                  ...                 ...        ...  ...  ..   \n",
       "295 2017-08-24 21:44:56 2017-11-13 12:03:19          A   80   F   \n",
       "296 2017-08-19 16:08:59 2017-11-11 21:46:03          B   35   F   \n",
       "297 2017-08-20 09:30:40 2017-11-11 02:06:31          A   65   F   \n",
       "298 2017-08-09 20:52:01 2017-11-11 13:44:23          A   22   M   \n",
       "299 2017-08-09 05:51:44 2017-11-12 13:33:05          A   76   M   \n",
       "\n",
       "             state  clicked_on_ad  amount_spent  \n",
       "0     North Dakota           True         58.95  \n",
       "1          Wyoming           True        196.00  \n",
       "2          Arizona           True         76.48  \n",
       "3        Minnesota           True        102.33  \n",
       "4         Colorado           True         17.30  \n",
       "..             ...            ...           ...  \n",
       "295  New Hampshire           True        194.88  \n",
       "296         Kansas          False          0.00  \n",
       "297        Montana          False          0.00  \n",
       "298         Alaska           True        154.20  \n",
       "299        Florida           True         99.00  \n",
       "\n",
       "[300 rows x 8 columns]"
      ]
     },
     "execution_count": 8,
     "metadata": {},
     "output_type": "execute_result"
    }
   ],
   "source": [
    "ad_data"
   ]
  },
  {
   "cell_type": "code",
   "execution_count": 9,
   "metadata": {
    "scrolled": true
   },
   "outputs": [
    {
     "data": {
      "text/plain": [
       "B    159\n",
       "A    141\n",
       "Name: ad_version, dtype: int64"
      ]
     },
     "execution_count": 9,
     "metadata": {},
     "output_type": "execute_result"
    }
   ],
   "source": [
    "#checking the distribution of the 2 ad classes\n",
    "ad_data['ad_version'].value_counts()"
   ]
  },
  {
   "cell_type": "code",
   "execution_count": 10,
   "metadata": {},
   "outputs": [],
   "source": [
    "ad_data.to_csv('ad_data.csv', index = False)"
   ]
  }
 ],
 "metadata": {
  "kernelspec": {
   "display_name": "Python 3",
   "language": "python",
   "name": "python3"
  },
  "language_info": {
   "codemirror_mode": {
    "name": "ipython",
    "version": 3
   },
   "file_extension": ".py",
   "mimetype": "text/x-python",
   "name": "python",
   "nbconvert_exporter": "python",
   "pygments_lexer": "ipython3",
   "version": "3.8.5"
  },
  "toc": {
   "base_numbering": 1,
   "nav_menu": {},
   "number_sections": true,
   "sideBar": true,
   "skip_h1_title": false,
   "title_cell": "Table of Contents",
   "title_sidebar": "Contents",
   "toc_cell": false,
   "toc_position": {},
   "toc_section_display": true,
   "toc_window_display": false
  },
  "varInspector": {
   "cols": {
    "lenName": 16,
    "lenType": 16,
    "lenVar": 40
   },
   "kernels_config": {
    "python": {
     "delete_cmd_postfix": "",
     "delete_cmd_prefix": "del ",
     "library": "var_list.py",
     "varRefreshCmd": "print(var_dic_list())"
    },
    "r": {
     "delete_cmd_postfix": ") ",
     "delete_cmd_prefix": "rm(",
     "library": "var_list.r",
     "varRefreshCmd": "cat(var_dic_list()) "
    }
   },
   "types_to_exclude": [
    "module",
    "function",
    "builtin_function_or_method",
    "instance",
    "_Feature"
   ],
   "window_display": false
  }
 },
 "nbformat": 4,
 "nbformat_minor": 4
}
