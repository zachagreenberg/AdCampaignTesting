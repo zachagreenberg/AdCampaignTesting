{
 "cells": [
  {
   "cell_type": "markdown",
   "metadata": {},
   "source": [
    "# Ad Campaign Hypothesis Testing"
   ]
  },
  {
   "cell_type": "markdown",
   "metadata": {},
   "source": [
    "by Zachary Greenberg"
   ]
  },
  {
   "attachments": {
    "download.jpg": {
     "image/jpeg": "[encoded data removed]"
    }
   },
   "cell_type": "markdown",
   "metadata": {},
   "source": [
    "![download.jpg](attachment:download.jpg)"
   ]
  },
  {
   "cell_type": "markdown",
   "metadata": {},
   "source": [
    "# Overview"
   ]
  },
  {
   "cell_type": "markdown",
   "metadata": {},
   "source": [
    "***Disclaimer: The data / situation presented in this repository is not real. It has been 100% randomly generated using the Python library, Faker***  \n",
    "\n",
    "In sales, advertising is an important part in a companies effort to create awareness of products and increase revenue. With the help of Data Science, companies and their advertising departments can assess the effectiveness of their ads as long as there is something to compare them to. For this pretend company below, they have chosen to deploy 2 different advertisments right around the end of September to mid November, aiming to show ads for upcoming holiday sales. Using hypothesis testing, I will investigate the performance of the two ads. "
   ]
  },
  {
   "cell_type": "markdown",
   "metadata": {},
   "source": [
    "# Business Understanding"
   ]
  },
  {
   "cell_type": "markdown",
   "metadata": {},
   "source": [
    "Advertising plays a key role in companies success and revenue. The question is, how would we go about measuring its success? Comparing the effects of two different ads will give companies more of an understanding and allow them to get some sort of tangible measure of effectiveness of the specific ads."
   ]
  },
  {
   "cell_type": "markdown",
   "metadata": {},
   "source": [
    "# Data Understanding"
   ]
  },
  {
   "cell_type": "markdown",
   "metadata": {},
   "source": [
    "The dataset has been randomly generated using the Python library, Faker. ***In the data file, the code generating the data has random seeds set in place to ensure reproducibility.***  \n",
    "\n",
    "The following columns were created:  \n",
    "\n",
    "*campaign_start* - the start date/time of the campaign  \n",
    "*campaign_end* - the end date/time of the campaign  \n",
    "*ad_version* - the version of the ad shown  \n",
    "*age* - the age of the person shown the ad   \n",
    "*sex* - the sex of the person  \n",
    "*state* - the state in which the person lives  \n",
    "*clicked_on_ad* - whether or not the person clicked on the ad  \n",
    "*amount_spent* - how much the person spent IF they clicked on the ad  "
   ]
  },
  {
   "cell_type": "code",
   "execution_count": 1,
   "metadata": {},
   "outputs": [],
   "source": [
    "import pandas as pd\n",
    "import numpy as np\n",
    "import seaborn as sns\n",
    "import matplotlib.pyplot as plt\n",
    "\n",
    "import warnings\n",
    "warnings.filterwarnings('ignore')"
   ]
  },
  {
   "cell_type": "code",
   "execution_count": 2,
   "metadata": {},
   "outputs": [],
   "source": [
    "df = pd.read_csv('data/ad_data.csv')"
   ]
  },
  {
   "cell_type": "code",
   "execution_count": 3,
   "metadata": {},
   "outputs": [
    {
     "data": {
      "text/html": [
       "<div>\n",
       "<style scoped>\n",
       "    .dataframe tbody tr th:only-of-type {\n",
       "        vertical-align: middle;\n",
       "    }\n",
       "\n",
       "    .dataframe tbody tr th {\n",
       "        vertical-align: top;\n",
       "    }\n",
       "\n",
       "    .dataframe thead th {\n",
       "        text-align: right;\n",
       "    }\n",
       "</style>\n",
       "<table border=\"1\" class=\"dataframe\">\n",
       "  <thead>\n",
       "    <tr style=\"text-align: right;\">\n",
       "      <th></th>\n",
       "      <th>campaign_start</th>\n",
       "      <th>campaign_end</th>\n",
       "      <th>ad_version</th>\n",
       "      <th>age</th>\n",
       "      <th>sex</th>\n",
       "      <th>state</th>\n",
       "      <th>clicked_on_ad</th>\n",
       "      <th>amount_spent</th>\n",
       "    </tr>\n",
       "  </thead>\n",
       "  <tbody>\n",
       "    <tr>\n",
       "      <th>0</th>\n",
       "      <td>2019-10-24 00:54:53</td>\n",
       "      <td>2019-12-10 19:54:30</td>\n",
       "      <td>B</td>\n",
       "      <td>29</td>\n",
       "      <td>M</td>\n",
       "      <td>North Dakota</td>\n",
       "      <td>True</td>\n",
       "      <td>8.54</td>\n",
       "    </tr>\n",
       "    <tr>\n",
       "      <th>1</th>\n",
       "      <td>2019-10-14 01:24:06</td>\n",
       "      <td>2019-12-10 03:35:27</td>\n",
       "      <td>B</td>\n",
       "      <td>44</td>\n",
       "      <td>M</td>\n",
       "      <td>Wyoming</td>\n",
       "      <td>True</td>\n",
       "      <td>86.92</td>\n",
       "    </tr>\n",
       "    <tr>\n",
       "      <th>2</th>\n",
       "      <td>2019-10-26 16:28:55</td>\n",
       "      <td>2019-12-10 10:49:22</td>\n",
       "      <td>B</td>\n",
       "      <td>73</td>\n",
       "      <td>M</td>\n",
       "      <td>Arizona</td>\n",
       "      <td>False</td>\n",
       "      <td>0.00</td>\n",
       "    </tr>\n",
       "    <tr>\n",
       "      <th>3</th>\n",
       "      <td>2019-10-17 23:31:46</td>\n",
       "      <td>2019-12-14 01:32:07</td>\n",
       "      <td>A</td>\n",
       "      <td>33</td>\n",
       "      <td>F</td>\n",
       "      <td>Minnesota</td>\n",
       "      <td>True</td>\n",
       "      <td>4.00</td>\n",
       "    </tr>\n",
       "    <tr>\n",
       "      <th>4</th>\n",
       "      <td>2019-10-07 22:08:29</td>\n",
       "      <td>2019-12-14 19:02:02</td>\n",
       "      <td>A</td>\n",
       "      <td>28</td>\n",
       "      <td>F</td>\n",
       "      <td>Colorado</td>\n",
       "      <td>False</td>\n",
       "      <td>0.00</td>\n",
       "    </tr>\n",
       "  </tbody>\n",
       "</table>\n",
       "</div>"
      ],
      "text/plain": [
       "        campaign_start         campaign_end ad_version  age sex         state  \\\n",
       "0  2019-10-24 00:54:53  2019-12-10 19:54:30          B   29   M  North Dakota   \n",
       "1  2019-10-14 01:24:06  2019-12-10 03:35:27          B   44   M       Wyoming   \n",
       "2  2019-10-26 16:28:55  2019-12-10 10:49:22          B   73   M       Arizona   \n",
       "3  2019-10-17 23:31:46  2019-12-14 01:32:07          A   33   F     Minnesota   \n",
       "4  2019-10-07 22:08:29  2019-12-14 19:02:02          A   28   F      Colorado   \n",
       "\n",
       "   clicked_on_ad  amount_spent  \n",
       "0           True          8.54  \n",
       "1           True         86.92  \n",
       "2          False          0.00  \n",
       "3           True          4.00  \n",
       "4          False          0.00  "
      ]
     },
     "execution_count": 3,
     "metadata": {},
     "output_type": "execute_result"
    }
   ],
   "source": [
    "df.head()"
   ]
  },
  {
   "cell_type": "code",
   "execution_count": 4,
   "metadata": {},
   "outputs": [
    {
     "data": {
      "text/plain": [
       "(500, 8)"
      ]
     },
     "execution_count": 4,
     "metadata": {},
     "output_type": "execute_result"
    }
   ],
   "source": [
    "df.shape"
   ]
  },
  {
   "cell_type": "code",
   "execution_count": 5,
   "metadata": {},
   "outputs": [
    {
     "name": "stdout",
     "output_type": "stream",
     "text": [
      "<class 'pandas.core.frame.DataFrame'>\n",
      "RangeIndex: 500 entries, 0 to 499\n",
      "Data columns (total 8 columns):\n",
      " #   Column          Non-Null Count  Dtype  \n",
      "---  ------          --------------  -----  \n",
      " 0   campaign_start  500 non-null    object \n",
      " 1   campaign_end    500 non-null    object \n",
      " 2   ad_version      500 non-null    object \n",
      " 3   age             500 non-null    int64  \n",
      " 4   sex             500 non-null    object \n",
      " 5   state           500 non-null    object \n",
      " 6   clicked_on_ad   500 non-null    bool   \n",
      " 7   amount_spent    500 non-null    float64\n",
      "dtypes: bool(1), float64(1), int64(1), object(5)\n",
      "memory usage: 28.0+ KB\n"
     ]
    }
   ],
   "source": [
    "df.info()"
   ]
  },
  {
   "cell_type": "code",
   "execution_count": 6,
   "metadata": {},
   "outputs": [],
   "source": [
    "df['campaign_start'] = pd.to_datetime(df['campaign_start'])\n",
    "df['campaign_end'] = pd.to_datetime(df['campaign_end'])"
   ]
  },
  {
   "cell_type": "code",
   "execution_count": 7,
   "metadata": {},
   "outputs": [],
   "source": [
    "df['ad_version'] = np.where(df['ad_version'] == 'A', 0, 1)\n",
    "df['clicked_on_ad'] = np.where(df['clicked_on_ad'] == True, 1, 0)"
   ]
  },
  {
   "cell_type": "code",
   "execution_count": 8,
   "metadata": {},
   "outputs": [
    {
     "data": {
      "text/html": [
       "<div>\n",
       "<style scoped>\n",
       "    .dataframe tbody tr th:only-of-type {\n",
       "        vertical-align: middle;\n",
       "    }\n",
       "\n",
       "    .dataframe tbody tr th {\n",
       "        vertical-align: top;\n",
       "    }\n",
       "\n",
       "    .dataframe thead th {\n",
       "        text-align: right;\n",
       "    }\n",
       "</style>\n",
       "<table border=\"1\" class=\"dataframe\">\n",
       "  <thead>\n",
       "    <tr style=\"text-align: right;\">\n",
       "      <th></th>\n",
       "      <th>ad_version</th>\n",
       "      <th>age</th>\n",
       "      <th>clicked_on_ad</th>\n",
       "      <th>amount_spent</th>\n",
       "    </tr>\n",
       "  </thead>\n",
       "  <tbody>\n",
       "    <tr>\n",
       "      <th>count</th>\n",
       "      <td>500.000000</td>\n",
       "      <td>500.000000</td>\n",
       "      <td>500.000000</td>\n",
       "      <td>500.000000</td>\n",
       "    </tr>\n",
       "    <tr>\n",
       "      <th>mean</th>\n",
       "      <td>0.516000</td>\n",
       "      <td>52.414000</td>\n",
       "      <td>0.496000</td>\n",
       "      <td>47.809360</td>\n",
       "    </tr>\n",
       "    <tr>\n",
       "      <th>std</th>\n",
       "      <td>0.500244</td>\n",
       "      <td>20.227826</td>\n",
       "      <td>0.500485</td>\n",
       "      <td>63.582162</td>\n",
       "    </tr>\n",
       "    <tr>\n",
       "      <th>min</th>\n",
       "      <td>0.000000</td>\n",
       "      <td>18.000000</td>\n",
       "      <td>0.000000</td>\n",
       "      <td>0.000000</td>\n",
       "    </tr>\n",
       "    <tr>\n",
       "      <th>25%</th>\n",
       "      <td>0.000000</td>\n",
       "      <td>35.000000</td>\n",
       "      <td>0.000000</td>\n",
       "      <td>0.000000</td>\n",
       "    </tr>\n",
       "    <tr>\n",
       "      <th>50%</th>\n",
       "      <td>1.000000</td>\n",
       "      <td>53.000000</td>\n",
       "      <td>0.000000</td>\n",
       "      <td>0.000000</td>\n",
       "    </tr>\n",
       "    <tr>\n",
       "      <th>75%</th>\n",
       "      <td>1.000000</td>\n",
       "      <td>71.000000</td>\n",
       "      <td>1.000000</td>\n",
       "      <td>87.850000</td>\n",
       "    </tr>\n",
       "    <tr>\n",
       "      <th>max</th>\n",
       "      <td>1.000000</td>\n",
       "      <td>85.000000</td>\n",
       "      <td>1.000000</td>\n",
       "      <td>198.900000</td>\n",
       "    </tr>\n",
       "  </tbody>\n",
       "</table>\n",
       "</div>"
      ],
      "text/plain": [
       "       ad_version         age  clicked_on_ad  amount_spent\n",
       "count  500.000000  500.000000     500.000000    500.000000\n",
       "mean     0.516000   52.414000       0.496000     47.809360\n",
       "std      0.500244   20.227826       0.500485     63.582162\n",
       "min      0.000000   18.000000       0.000000      0.000000\n",
       "25%      0.000000   35.000000       0.000000      0.000000\n",
       "50%      1.000000   53.000000       0.000000      0.000000\n",
       "75%      1.000000   71.000000       1.000000     87.850000\n",
       "max      1.000000   85.000000       1.000000    198.900000"
      ]
     },
     "execution_count": 8,
     "metadata": {},
     "output_type": "execute_result"
    }
   ],
   "source": [
    "df.describe()"
   ]
  },
  {
   "cell_type": "markdown",
   "metadata": {},
   "source": [
    "The average of the ad_version in this data set is around .5. This tells us there is a fairly even distribution of groups in the dataset. I am going to change ad_version and clicked_on_ad back to their original datatypes for easier understanding of the analysis."
   ]
  },
  {
   "cell_type": "code",
   "execution_count": 9,
   "metadata": {},
   "outputs": [],
   "source": [
    "df['ad_version'] = np.where(df['ad_version'] == 0, 'A', 'B')\n",
    "df['clicked_on_ad'] = np.where(df['clicked_on_ad'] == 1, True, False)"
   ]
  },
  {
   "cell_type": "markdown",
   "metadata": {},
   "source": [
    "Let's take a little closer look at the variables in the data:"
   ]
  },
  {
   "cell_type": "code",
   "execution_count": 10,
   "metadata": {},
   "outputs": [
    {
     "data": {
      "text/plain": [
       "B    258\n",
       "A    242\n",
       "Name: ad_version, dtype: int64"
      ]
     },
     "execution_count": 10,
     "metadata": {},
     "output_type": "execute_result"
    }
   ],
   "source": [
    "df['ad_version'].value_counts()"
   ]
  },
  {
   "cell_type": "code",
   "execution_count": 11,
   "metadata": {},
   "outputs": [
    {
     "data": {
      "image/png": "[encoded data removed]",
      "text/plain": [
       "<Figure size 432x288 with 1 Axes>"
      ]
     },
     "metadata": {
      "needs_background": "light"
     },
     "output_type": "display_data"
    }
   ],
   "source": [
    "fig, ax = plt.subplots()\n",
    "ax.bar(x=['A', 'B'], height = df.ad_version.value_counts())\n",
    "ax.set_xlabel('Ad Version')\n",
    "ax.set_ylabel('Frequency')\n",
    "ax.set_title('Distribution of Ad Version')\n",
    "plt.show()"
   ]
  },
  {
   "cell_type": "markdown",
   "metadata": {},
   "source": [
    "There is a fairly even distribution of individuals who were shown both ads. Now let's figure out who clicked on them, as this is the important part."
   ]
  },
  {
   "cell_type": "code",
   "execution_count": 12,
   "metadata": {
    "scrolled": true
   },
   "outputs": [
    {
     "data": {
      "text/plain": [
       "ad_version  clicked_on_ad\n",
       "A           True             123\n",
       "            False            119\n",
       "B           False            133\n",
       "            True             125\n",
       "Name: clicked_on_ad, dtype: int64"
      ]
     },
     "execution_count": 12,
     "metadata": {},
     "output_type": "execute_result"
    }
   ],
   "source": [
    "df.groupby(by=df['ad_version'])['clicked_on_ad'].value_counts()"
   ]
  },
  {
   "cell_type": "markdown",
   "metadata": {},
   "source": [
    "Although the results are close to one another, it seems as though more people ended up clicking on Version B."
   ]
  },
  {
   "cell_type": "code",
   "execution_count": 13,
   "metadata": {},
   "outputs": [
    {
     "data": {
      "image/png": "[encoded data removed]",
      "text/plain": [
       "<Figure size 432x288 with 1 Axes>"
      ]
     },
     "metadata": {
      "needs_background": "light"
     },
     "output_type": "display_data"
    }
   ],
   "source": [
    "fig, ax = plt.subplots()\n",
    "df.groupby(df['ad_version'])['clicked_on_ad'].value_counts(normalize = True).unstack().plot(kind='bar', stacked = True, ax = ax)\n",
    "ax.set_ylabel('Percent Clicked on Ad')\n",
    "ax.set_title('Distribution of Clicked on Ads')\n",
    "plt.show();"
   ]
  },
  {
   "cell_type": "markdown",
   "metadata": {},
   "source": [
    "The distribution of the clicks for the ads is also approximately equal. There seems to be a slightly higher percentage of successful clicks on ad version A. "
   ]
  },
  {
   "cell_type": "markdown",
   "metadata": {},
   "source": [
    "Now I will investigate the smaller variables:"
   ]
  },
  {
   "cell_type": "code",
   "execution_count": 14,
   "metadata": {},
   "outputs": [
    {
     "data": {
      "image/png": "[encoded data removed]",
      "text/plain": [
       "<Figure size 1080x504 with 1 Axes>"
      ]
     },
     "metadata": {
      "needs_background": "light"
     },
     "output_type": "display_data"
    }
   ],
   "source": [
    "fix, ax = plt.subplots(figsize=(15, 7))\n",
    "ax.bar(x = df['state'].value_counts().index, height = df['state'].value_counts().values)\n",
    "ax.set_ylabel('Frequency')\n",
    "ax.set_xlabel('State')\n",
    "ax.set_xticklabels(df['state'].value_counts().index, rotation = 90)\n",
    "plt.show()"
   ]
  },
  {
   "cell_type": "markdown",
   "metadata": {},
   "source": [
    "There is not a particular state that is over represented."
   ]
  },
  {
   "cell_type": "code",
   "execution_count": 15,
   "metadata": {
    "scrolled": true
   },
   "outputs": [
    {
     "data": {
      "text/plain": [
       "F    263\n",
       "M    237\n",
       "Name: sex, dtype: int64"
      ]
     },
     "execution_count": 15,
     "metadata": {},
     "output_type": "execute_result"
    }
   ],
   "source": [
    "df['sex'].value_counts()"
   ]
  },
  {
   "cell_type": "markdown",
   "metadata": {},
   "source": [
    "There are slightly more females represented in this dataset. "
   ]
  },
  {
   "cell_type": "code",
   "execution_count": 16,
   "metadata": {},
   "outputs": [
    {
     "data": {
      "text/plain": [
       "ad_version  sex\n",
       "A           M      127\n",
       "            F      115\n",
       "B           F      148\n",
       "            M      110\n",
       "Name: sex, dtype: int64"
      ]
     },
     "execution_count": 16,
     "metadata": {},
     "output_type": "execute_result"
    }
   ],
   "source": [
    "df.groupby(df['ad_version'])['sex'].value_counts()"
   ]
  },
  {
   "cell_type": "markdown",
   "metadata": {},
   "source": [
    "It is interesting the results above, because when looking at the value counts of sex by ad version, more males were shown version A."
   ]
  },
  {
   "cell_type": "code",
   "execution_count": 17,
   "metadata": {},
   "outputs": [
    {
     "data": {
      "image/png": "[encoded data removed]",
      "text/plain": [
       "<Figure size 432x288 with 1 Axes>"
      ]
     },
     "metadata": {
      "needs_background": "light"
     },
     "output_type": "display_data"
    }
   ],
   "source": [
    "fig, ax = plt.subplots()\n",
    "ax.hist(x = df['age']) \n",
    "ax.set_xlabel('Age')\n",
    "ax.set_ylabel('# of people')\n",
    "ax.set_title('Distribution of Age')\n",
    "plt.show()"
   ]
  },
  {
   "cell_type": "markdown",
   "metadata": {},
   "source": [
    "The distribution of age is a bit scattered, but I don't think that is anything to be concerned about. For the time being, let's take a look at the difference in age in each group. "
   ]
  },
  {
   "cell_type": "code",
   "execution_count": 18,
   "metadata": {},
   "outputs": [
    {
     "data": {
      "image/png": "[encoded data removed]",
      "text/plain": [
       "<Figure size 648x360 with 2 Axes>"
      ]
     },
     "metadata": {
      "needs_background": "light"
     },
     "output_type": "display_data"
    }
   ],
   "source": [
    "fig, ax = plt.subplots(1, 2, figsize =(9,5))\n",
    "ax[0].hist(x = df[df['ad_version'] == 'A']['age']) \n",
    "ax[0].set_xlabel('Age')\n",
    "ax[0].set_ylabel('# of people')\n",
    "ax[0].set_title('Distribution of Age in A')\n",
    "ax[1].hist(x = df[df['ad_version'] == 'B']['age']) \n",
    "ax[1].set_xlabel('Age')\n",
    "ax[1].set_ylabel('# of people')\n",
    "ax[1].set_title('Distribution of Age in B')\n",
    "plt.suptitle('Distribution of Age in Groups')\n",
    "plt.show()"
   ]
  },
  {
   "cell_type": "markdown",
   "metadata": {},
   "source": [
    "The distribution of age between the groups is nothing to be too concerned about, they are not too different overall."
   ]
  },
  {
   "cell_type": "code",
   "execution_count": 19,
   "metadata": {},
   "outputs": [
    {
     "data": {
      "image/png": "[encoded data removed]",
      "text/plain": [
       "<Figure size 432x288 with 1 Axes>"
      ]
     },
     "metadata": {
      "needs_background": "light"
     },
     "output_type": "display_data"
    }
   ],
   "source": [
    "fig, ax = plt.subplots()\n",
    "ax.hist(x = df['amount_spent'], bins = 8) #I would like to see this in increments of $25\n",
    "ax.set_xlabel('Amount Spent in USD')\n",
    "ax.set_ylabel('# of people')\n",
    "ax.set_title('Distribution of Amount Spent')\n",
    "plt.show()"
   ]
  },
  {
   "cell_type": "markdown",
   "metadata": {},
   "source": [
    "The distribution above shows a strong positive skew for the amount spent on both ads."
   ]
  },
  {
   "cell_type": "code",
   "execution_count": 20,
   "metadata": {},
   "outputs": [
    {
     "data": {
      "text/plain": [
       "ad_version\n",
       "A    11868.15\n",
       "B    12036.53\n",
       "Name: amount_spent, dtype: float64"
      ]
     },
     "execution_count": 20,
     "metadata": {},
     "output_type": "execute_result"
    }
   ],
   "source": [
    "df.groupby(df['ad_version'])['amount_spent'].sum()"
   ]
  },
  {
   "cell_type": "markdown",
   "metadata": {},
   "source": [
    "As we can see from above, version B proved to bring in more money. "
   ]
  },
  {
   "cell_type": "markdown",
   "metadata": {},
   "source": [
    "# Hypothesis Testing"
   ]
  },
  {
   "cell_type": "markdown",
   "metadata": {},
   "source": [
    "Based on the findings from the visualization, I would like to test the hypothesis that version B proved to be more effective. Because the outcome of this test in binary, it would be better to use Fisher's exact test. "
   ]
  },
  {
   "cell_type": "markdown",
   "metadata": {},
   "source": [
    "> NULL HYPOTHESIS: There is no difference in performance between version A and B.  \n",
    "> ALT HYPOTHESIS: Version B outperformed Version A in terms of clicks."
   ]
  },
  {
   "cell_type": "code",
   "execution_count": 21,
   "metadata": {},
   "outputs": [],
   "source": [
    "from scipy import stats"
   ]
  },
  {
   "cell_type": "code",
   "execution_count": 22,
   "metadata": {},
   "outputs": [],
   "source": [
    "df_A = df[df['ad_version'] == 'A']\n",
    "df_B = df[df['ad_version'] == 'B']\n",
    "\n",
    "a_clicks = sum(df_A['clicked_on_ad'])\n",
    "b_clicks = sum(df_B['clicked_on_ad'])\n",
    "\n",
    "a_no_clicks = df_A.shape[0] - a_clicks\n",
    "b_no_clicks = df_B.shape[0] - b_clicks"
   ]
  },
  {
   "cell_type": "code",
   "execution_count": 23,
   "metadata": {
    "scrolled": true
   },
   "outputs": [
    {
     "data": {
      "text/plain": [
       "0.3293621396883298"
      ]
     },
     "execution_count": 23,
     "metadata": {},
     "output_type": "execute_result"
    }
   ],
   "source": [
    "stats.fisher_exact(np.array([[a_clicks, b_clicks],[a_no_clicks, b_no_clicks]]), alternative = 'greater')[1]"
   ]
  },
  {
   "cell_type": "markdown",
   "metadata": {},
   "source": [
    "Using a generous p-value of .05, I would respectfully fail to reject the null hypothesis. There is no significant difference that suggests the outperformance of Group B. "
   ]
  }
 ],
 "metadata": {
  "kernelspec": {
   "display_name": "Python 3",
   "language": "python",
   "name": "python3"
  },
  "language_info": {
   "codemirror_mode": {
    "name": "ipython",
    "version": 3
   },
   "file_extension": ".py",
   "mimetype": "text/x-python",
   "name": "python",
   "nbconvert_exporter": "python",
   "pygments_lexer": "ipython3",
   "version": "3.8.5"
  },
  "toc": {
   "base_numbering": 1,
   "nav_menu": {},
   "number_sections": true,
   "sideBar": true,
   "skip_h1_title": false,
   "title_cell": "Table of Contents",
   "title_sidebar": "Contents",
   "toc_cell": false,
   "toc_position": {},
   "toc_section_display": true,
   "toc_window_display": false
  },
  "varInspector": {
   "cols": {
    "lenName": 16,
    "lenType": 16,
    "lenVar": 40
   },
   "kernels_config": {
    "python": {
     "delete_cmd_postfix": "",
     "delete_cmd_prefix": "del ",
     "library": "var_list.py",
     "varRefreshCmd": "print(var_dic_list())"
    },
    "r": {
     "delete_cmd_postfix": ") ",
     "delete_cmd_prefix": "rm(",
     "library": "var_list.r",
     "varRefreshCmd": "cat(var_dic_list()) "
    }
   },
   "types_to_exclude": [
    "module",
    "function",
    "builtin_function_or_method",
    "instance",
    "_Feature"
   ],
   "window_display": false
  }
 },
 "nbformat": 4,
 "nbformat_minor": 4
}
