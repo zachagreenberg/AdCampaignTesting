{
 "cells": [
  {
   "cell_type": "markdown",
   "metadata": {},
   "source": [
    "# Ad Campaign Hypothesis Testing"
   ]
  },
  {
   "cell_type": "markdown",
   "metadata": {},
   "source": [
    "by Zachary Greenberg"
   ]
  },
  {
   "attachments": {
    "download.jpg": {
     "image/jpeg": "[encoded data removed]"
    }
   },
   "cell_type": "markdown",
   "metadata": {},
   "source": [
    "![download.jpg](attachment:download.jpg)"
   ]
  },
  {
   "cell_type": "markdown",
   "metadata": {},
   "source": [
    "# Overview"
   ]
  },
  {
   "cell_type": "markdown",
   "metadata": {},
   "source": [
    "***Disclaimer: The data / situation presented in this repository is not real. It has been 100% randomly generated using the Python library, Faker***  \n",
    "\n",
    "In sales, advertising is an important part in a companies effort to create awareness of products and increase revenue. With the help of Data Science, companies and their advertising departments can assess the effectiveness of their ads as long as there is something to compare them to. For this pretend company below, they have chosen to deploy 2 different advertisments right around the end of September to mid November, aiming to show ads for upcoming holiday sales. Using hypothesis testing, I will investigate the performance of the two ads. "
   ]
  },
  {
   "cell_type": "markdown",
   "metadata": {},
   "source": [
    "# Business Understanding"
   ]
  },
  {
   "cell_type": "markdown",
   "metadata": {},
   "source": [
    "Advertising plays a key role in companies success and revenue. The question is, how would we go about measuring its success? Comparing the effects of two different ads will give companies more of an understanding and allow them to get some sort of tangible measure of effectiveness of the specific ads."
   ]
  },
  {
   "cell_type": "markdown",
   "metadata": {},
   "source": [
    "# Data Understanding"
   ]
  },
  {
   "cell_type": "markdown",
   "metadata": {},
   "source": [
    "The dataset has been randomly generated using the Python library, Faker. ***In the data file, the code generating the data has random seeds set in place to ensure reproducibility.***  \n",
    "\n",
    "The following columns were created:  \n",
    "\n",
    "*campaign_start* - the start date/time of the campaign"
   ]
  },
  {
   "cell_type": "code",
   "execution_count": 1,
   "metadata": {},
   "outputs": [],
   "source": [
    "import pandas as pd\n",
    "import numpy as np\n",
    "import seaborn as sns\n",
    "import matplotlib.pyplot as plt"
   ]
  },
  {
   "cell_type": "code",
   "execution_count": 2,
   "metadata": {},
   "outputs": [],
   "source": [
    "df = pd.read_csv('data/ad_data.csv')"
   ]
  },
  {
   "cell_type": "code",
   "execution_count": 4,
   "metadata": {},
   "outputs": [
    {
     "data": {
      "text/html": [
       "<div>\n",
       "<style scoped>\n",
       "    .dataframe tbody tr th:only-of-type {\n",
       "        vertical-align: middle;\n",
       "    }\n",
       "\n",
       "    .dataframe tbody tr th {\n",
       "        vertical-align: top;\n",
       "    }\n",
       "\n",
       "    .dataframe thead th {\n",
       "        text-align: right;\n",
       "    }\n",
       "</style>\n",
       "<table border=\"1\" class=\"dataframe\">\n",
       "  <thead>\n",
       "    <tr style=\"text-align: right;\">\n",
       "      <th></th>\n",
       "      <th>campaign_start</th>\n",
       "      <th>campaign_end</th>\n",
       "      <th>ad_version</th>\n",
       "      <th>age</th>\n",
       "      <th>sex</th>\n",
       "      <th>state</th>\n",
       "      <th>clicked_on_ad</th>\n",
       "      <th>amount_spent</th>\n",
       "    </tr>\n",
       "  </thead>\n",
       "  <tbody>\n",
       "    <tr>\n",
       "      <th>0</th>\n",
       "      <td>2017-08-24 00:54:53</td>\n",
       "      <td>2017-11-14 18:52:28</td>\n",
       "      <td>B</td>\n",
       "      <td>70</td>\n",
       "      <td>M</td>\n",
       "      <td>North Dakota</td>\n",
       "      <td>True</td>\n",
       "      <td>58.95</td>\n",
       "    </tr>\n",
       "    <tr>\n",
       "      <th>1</th>\n",
       "      <td>2017-08-14 01:24:06</td>\n",
       "      <td>2017-11-11 05:52:06</td>\n",
       "      <td>B</td>\n",
       "      <td>36</td>\n",
       "      <td>M</td>\n",
       "      <td>Wyoming</td>\n",
       "      <td>True</td>\n",
       "      <td>196.00</td>\n",
       "    </tr>\n",
       "    <tr>\n",
       "      <th>2</th>\n",
       "      <td>2017-08-26 16:28:55</td>\n",
       "      <td>2017-11-11 13:05:21</td>\n",
       "      <td>B</td>\n",
       "      <td>75</td>\n",
       "      <td>M</td>\n",
       "      <td>Arizona</td>\n",
       "      <td>True</td>\n",
       "      <td>76.48</td>\n",
       "    </tr>\n",
       "    <tr>\n",
       "      <th>3</th>\n",
       "      <td>2017-08-17 23:31:46</td>\n",
       "      <td>2017-11-10 15:58:09</td>\n",
       "      <td>A</td>\n",
       "      <td>85</td>\n",
       "      <td>F</td>\n",
       "      <td>Minnesota</td>\n",
       "      <td>True</td>\n",
       "      <td>102.33</td>\n",
       "    </tr>\n",
       "    <tr>\n",
       "      <th>4</th>\n",
       "      <td>2017-08-07 22:08:29</td>\n",
       "      <td>2017-11-11 15:01:02</td>\n",
       "      <td>A</td>\n",
       "      <td>49</td>\n",
       "      <td>F</td>\n",
       "      <td>Colorado</td>\n",
       "      <td>True</td>\n",
       "      <td>17.30</td>\n",
       "    </tr>\n",
       "  </tbody>\n",
       "</table>\n",
       "</div>"
      ],
      "text/plain": [
       "        campaign_start         campaign_end ad_version  age sex         state  \\\n",
       "0  2017-08-24 00:54:53  2017-11-14 18:52:28          B   70   M  North Dakota   \n",
       "1  2017-08-14 01:24:06  2017-11-11 05:52:06          B   36   M       Wyoming   \n",
       "2  2017-08-26 16:28:55  2017-11-11 13:05:21          B   75   M       Arizona   \n",
       "3  2017-08-17 23:31:46  2017-11-10 15:58:09          A   85   F     Minnesota   \n",
       "4  2017-08-07 22:08:29  2017-11-11 15:01:02          A   49   F      Colorado   \n",
       "\n",
       "   clicked_on_ad  amount_spent  \n",
       "0           True         58.95  \n",
       "1           True        196.00  \n",
       "2           True         76.48  \n",
       "3           True        102.33  \n",
       "4           True         17.30  "
      ]
     },
     "execution_count": 4,
     "metadata": {},
     "output_type": "execute_result"
    }
   ],
   "source": [
    "df.head()"
   ]
  },
  {
   "cell_type": "code",
   "execution_count": 13,
   "metadata": {},
   "outputs": [
    {
     "data": {
      "text/plain": [
       "(300, 8)"
      ]
     },
     "execution_count": 13,
     "metadata": {},
     "output_type": "execute_result"
    }
   ],
   "source": [
    "df.shape"
   ]
  },
  {
   "cell_type": "code",
   "execution_count": 5,
   "metadata": {},
   "outputs": [
    {
     "data": {
      "text/plain": [
       "campaign_start     object\n",
       "campaign_end       object\n",
       "ad_version         object\n",
       "age                 int64\n",
       "sex                object\n",
       "state              object\n",
       "clicked_on_ad        bool\n",
       "amount_spent      float64\n",
       "dtype: object"
      ]
     },
     "execution_count": 5,
     "metadata": {},
     "output_type": "execute_result"
    }
   ],
   "source": [
    "df.dtypes"
   ]
  },
  {
   "cell_type": "code",
   "execution_count": 6,
   "metadata": {},
   "outputs": [],
   "source": [
    "df['campaign_start'] = pd.to_datetime(df['campaign_start'])\n",
    "df['campaign_end'] = pd.to_datetime(df['campaign_end'])"
   ]
  },
  {
   "cell_type": "code",
   "execution_count": 8,
   "metadata": {},
   "outputs": [],
   "source": [
    "df['clicked_on_ad'] = np.where(df['clicked_on_ad'] == True, 1, 0)"
   ]
  },
  {
   "cell_type": "code",
   "execution_count": 11,
   "metadata": {},
   "outputs": [
    {
     "data": {
      "text/html": [
       "<div>\n",
       "<style scoped>\n",
       "    .dataframe tbody tr th:only-of-type {\n",
       "        vertical-align: middle;\n",
       "    }\n",
       "\n",
       "    .dataframe tbody tr th {\n",
       "        vertical-align: top;\n",
       "    }\n",
       "\n",
       "    .dataframe thead th {\n",
       "        text-align: right;\n",
       "    }\n",
       "</style>\n",
       "<table border=\"1\" class=\"dataframe\">\n",
       "  <thead>\n",
       "    <tr style=\"text-align: right;\">\n",
       "      <th></th>\n",
       "      <th>age</th>\n",
       "      <th>clicked_on_ad</th>\n",
       "      <th>amount_spent</th>\n",
       "    </tr>\n",
       "  </thead>\n",
       "  <tbody>\n",
       "    <tr>\n",
       "      <th>count</th>\n",
       "      <td>300.000000</td>\n",
       "      <td>300.000000</td>\n",
       "      <td>300.000000</td>\n",
       "    </tr>\n",
       "    <tr>\n",
       "      <th>mean</th>\n",
       "      <td>51.113333</td>\n",
       "      <td>0.516667</td>\n",
       "      <td>51.822267</td>\n",
       "    </tr>\n",
       "    <tr>\n",
       "      <th>std</th>\n",
       "      <td>19.804914</td>\n",
       "      <td>0.500557</td>\n",
       "      <td>64.392648</td>\n",
       "    </tr>\n",
       "    <tr>\n",
       "      <th>min</th>\n",
       "      <td>18.000000</td>\n",
       "      <td>0.000000</td>\n",
       "      <td>0.000000</td>\n",
       "    </tr>\n",
       "    <tr>\n",
       "      <th>25%</th>\n",
       "      <td>34.000000</td>\n",
       "      <td>0.000000</td>\n",
       "      <td>0.000000</td>\n",
       "    </tr>\n",
       "    <tr>\n",
       "      <th>50%</th>\n",
       "      <td>51.000000</td>\n",
       "      <td>1.000000</td>\n",
       "      <td>8.135000</td>\n",
       "    </tr>\n",
       "    <tr>\n",
       "      <th>75%</th>\n",
       "      <td>69.000000</td>\n",
       "      <td>1.000000</td>\n",
       "      <td>99.555000</td>\n",
       "    </tr>\n",
       "    <tr>\n",
       "      <th>max</th>\n",
       "      <td>85.000000</td>\n",
       "      <td>1.000000</td>\n",
       "      <td>199.660000</td>\n",
       "    </tr>\n",
       "  </tbody>\n",
       "</table>\n",
       "</div>"
      ],
      "text/plain": [
       "              age  clicked_on_ad  amount_spent\n",
       "count  300.000000     300.000000    300.000000\n",
       "mean    51.113333       0.516667     51.822267\n",
       "std     19.804914       0.500557     64.392648\n",
       "min     18.000000       0.000000      0.000000\n",
       "25%     34.000000       0.000000      0.000000\n",
       "50%     51.000000       1.000000      8.135000\n",
       "75%     69.000000       1.000000     99.555000\n",
       "max     85.000000       1.000000    199.660000"
      ]
     },
     "execution_count": 11,
     "metadata": {},
     "output_type": "execute_result"
    }
   ],
   "source": [
    "df.describe()"
   ]
  },
  {
   "cell_type": "code",
   "execution_count": null,
   "metadata": {},
   "outputs": [],
   "source": []
  }
 ],
 "metadata": {
  "kernelspec": {
   "display_name": "Python 3",
   "language": "python",
   "name": "python3"
  },
  "language_info": {
   "codemirror_mode": {
    "name": "ipython",
    "version": 3
   },
   "file_extension": ".py",
   "mimetype": "text/x-python",
   "name": "python",
   "nbconvert_exporter": "python",
   "pygments_lexer": "ipython3",
   "version": "3.8.5"
  },
  "toc": {
   "base_numbering": 1,
   "nav_menu": {},
   "number_sections": true,
   "sideBar": true,
   "skip_h1_title": false,
   "title_cell": "Table of Contents",
   "title_sidebar": "Contents",
   "toc_cell": false,
   "toc_position": {},
   "toc_section_display": true,
   "toc_window_display": false
  },
  "varInspector": {
   "cols": {
    "lenName": 16,
    "lenType": 16,
    "lenVar": 40
   },
   "kernels_config": {
    "python": {
     "delete_cmd_postfix": "",
     "delete_cmd_prefix": "del ",
     "library": "var_list.py",
     "varRefreshCmd": "print(var_dic_list())"
    },
    "r": {
     "delete_cmd_postfix": ") ",
     "delete_cmd_prefix": "rm(",
     "library": "var_list.r",
     "varRefreshCmd": "cat(var_dic_list()) "
    }
   },
   "types_to_exclude": [
    "module",
    "function",
    "builtin_function_or_method",
    "instance",
    "_Feature"
   ],
   "window_display": false
  }
 },
 "nbformat": 4,
 "nbformat_minor": 4
}
